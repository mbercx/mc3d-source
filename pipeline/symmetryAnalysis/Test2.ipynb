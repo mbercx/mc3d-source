{
 "cells": [
  {
   "cell_type": "code",
   "execution_count": 3,
   "metadata": {},
   "outputs": [],
   "source": [
    "## In the second test I want to extract the symmetry matrices from the QE output or XML for the structures that the calculations run initially.\n",
    "## Then, to compare them with the the symmetry matrices that are calculated with spglib for the structures before and after the relaxation.\n",
    "## Lastly, I need to check again with the structures that are the calculations failed due to symmetry issues."
   ]
  },
  {
   "cell_type": "code",
   "execution_count": 4,
   "metadata": {},
   "outputs": [
    {
     "data": {
      "text/plain": [
       "Profile<uuid='960a408e945248238ac64a4982cfc6d7' name='dev'>"
      ]
     },
     "execution_count": 4,
     "metadata": {},
     "output_type": "execute_result"
    }
   ],
   "source": [
    "from aiida.orm import load_node, load_group, Group\n",
    "import aiida \n",
    "import spglib\n",
    "import numpy as np\n",
    "from collections import defaultdict\n",
    "\n",
    "aiida.load_profile()"
   ]
  },
  {
   "cell_type": "code",
   "execution_count": 5,
   "metadata": {},
   "outputs": [],
   "source": [
    "# Calculate the symmetry matrices with spglib\n",
    "def get_symmetry_matrices_spglib(structure_node):\n",
    "    \n",
    "    structure_ase = structure_node.get_ase()\n",
    "    \n",
    "    lattice = structure_ase.cell.array\n",
    "    positions = structure_ase.get_scaled_positions()\n",
    "    numbers = structure_ase.get_atomic_numbers()\n",
    "    \n",
    "    structure_spglib = (lattice, positions, numbers)\n",
    "    symmetry_dataset = spglib.get_symmetry(structure_spglib)\n",
    "    rotations = symmetry_dataset['rotations']\n",
    "    \n",
    "    unique_rotations = {tuple(map(tuple, rotation)) for rotation in rotations}\n",
    "    \n",
    "    return unique_rotations, len(unique_rotations)\n",
    "\n",
    "# extract the symmetry matrices from QE\n",
    "def get_crystal_symmetries_qe(output_lines):\n",
    "    import re\n",
    "\n",
    "    symmetries = set()\n",
    "    pattern = re.compile(r'\\(\\s*(-?\\d+)\\s*(-?\\d+)\\s*(-?\\d+)\\s*\\)')\n",
    "\n",
    "    collecting = False\n",
    "    current_matrix = []\n",
    "\n",
    "    for line in output_lines:\n",
    "        \n",
    "        if 'cryst.   s(' in line:\n",
    "            #print(line)\n",
    "            collecting = True\n",
    "            current_matrix = []\n",
    "        \n",
    "        if collecting:\n",
    "            match = pattern.search(line)\n",
    "            if match:\n",
    "                current_matrix.append(tuple(map(int, match.groups())))\n",
    "                if len(current_matrix) == 3:\n",
    "                    symmetries.add(tuple(current_matrix))\n",
    "                    collecting = False\n",
    "\n",
    "    return symmetries\n",
    "\n",
    "# extract the WorkChainNodes from the descendants.\n",
    "def get_workchain_node_ids(node_strings):\n",
    "\n",
    "    workchain_ids = []\n",
    "    \n",
    "    for node_str in node_strings:\n",
    "        if 'WorkChainNode' in node_str.node_type:\n",
    "            # Extract the primary key (pk) from the string\n",
    "            pk = node_str.pk\n",
    "            workchain_ids.append(pk)\n",
    "    \n",
    "    return workchain_ids\n",
    "\n",
    "\n",
    "def matrices_are_equal(set1, set2):\n",
    "    identity_matrix = np.eye(3)\n",
    "    \n",
    "    # Create copies of the sets to work with\n",
    "    set1_copy = set(set1)\n",
    "    set2_copy = set(set2)\n",
    "    \n",
    "    # Collect matrices to remove after iteration\n",
    "    to_remove_from_set1 = set()\n",
    "    to_remove_from_set2 = set()\n",
    "    \n",
    "    for matrix1 in set1_copy: \n",
    "        matrix1_np = np.array(matrix1)  \n",
    "        for matrix2 in set2_copy: \n",
    "            matrix2_np = np.array(matrix2)  \n",
    "            \n",
    "            matrix2_T = matrix2_np.T\n",
    "            res = matrix1_np @ matrix2_T\n",
    "            if np.array_equal(res, identity_matrix):\n",
    "                to_remove_from_set1.add(matrix1)\n",
    "                to_remove_from_set2.add(matrix2)\n",
    "                break  \n",
    "    \n",
    "    # Remove matrices from the copies after the iteration\n",
    "    set1_copy.difference_update(to_remove_from_set1)\n",
    "    set2_copy.difference_update(to_remove_from_set2)\n",
    "    \n",
    "    # Check if both copies are empty\n",
    "    return not set1_copy and not set2_copy\n"
   ]
  },
  {
   "cell_type": "code",
   "execution_count": 6,
   "metadata": {},
   "outputs": [],
   "source": [
    "## First we can check the workchain nodes that the calculations were succesfull.\n",
    "\n",
    "group_name = 'workchain/test/relax'\n",
    "group = load_group(group_name)\n",
    "\n",
    "successful_nodes = []\n",
    "\n",
    "for node in group.nodes:\n",
    "    workchain_node = load_node(node.pk)\n",
    "    if node.is_finished:\n",
    "        if node.is_finished_ok:\n",
    "            successful_nodes.append(node.pk)"
   ]
  },
  {
   "cell_type": "markdown",
   "metadata": {},
   "source": [
    "## Succesful Calculations"
   ]
  },
  {
   "cell_type": "code",
   "execution_count": 7,
   "metadata": {},
   "outputs": [],
   "source": [
    "# Tests for the structures before the first relaxation. \n",
    "\n",
    "for node in successful_nodes:\n",
    "    \n",
    "    workflow_node = load_node(node)\n",
    "    input_workchain = get_workchain_node_ids(workflow_node.called_descendants)\n",
    "\n",
    "    workchain = load_node(min(input_workchain))\n",
    "    retrieved = workchain.outputs.retrieved\n",
    "    \n",
    "    qe_aiida_out = retrieved.base.repository.get_object_content('aiida.out').split('\\n')\n",
    "    \n",
    "    symmetries_qe = get_crystal_symmetries_qe(qe_aiida_out)\n",
    "    \n",
    "    structure = workchain.inputs.pw.structure\n",
    "    \n",
    "    symmetries_spglib, number_of_symmetries = get_symmetry_matrices_spglib(structure)\n",
    "    \n",
    "    if not matrices_are_equal(symmetries_qe, symmetries_spglib):\n",
    "        print(node)\n",
    "        print('The number of symmetries from QE : ', len(symmetries_qe))\n",
    "        print('The number of symmetries from Spglib : ', len(symmetries_spglib))\n",
    "        "
   ]
  },
  {
   "cell_type": "code",
   "execution_count": 8,
   "metadata": {},
   "outputs": [],
   "source": [
    "# Tests for the structures before the second relaxation. \n",
    "\n",
    "for node in successful_nodes:\n",
    "    \n",
    "    workflow_node = load_node(node)\n",
    "    input_workchain = get_workchain_node_ids(workflow_node.called_descendants)\n",
    "\n",
    "    workchain = load_node(max(input_workchain))\n",
    "    retrieved = workchain.outputs.retrieved\n",
    "    \n",
    "    qe_aiida_out = retrieved.base.repository.get_object_content('aiida.out').split('\\n')\n",
    "    \n",
    "    symmetries_qe = get_crystal_symmetries_qe(qe_aiida_out)\n",
    "    \n",
    "    structure = workchain.inputs.pw.structure\n",
    "    \n",
    "    symmetries_spglib, number_of_symmetries = get_symmetry_matrices_spglib(structure)\n",
    "    \n",
    "    if not matrices_are_equal(symmetries_qe, symmetries_spglib):\n",
    "        print(node)\n",
    "        print('The number of symmetries from QE : ', len(symmetries_qe))\n",
    "        print('The number of symmetries from Spglib : ', len(symmetries_spglib))"
   ]
  },
  {
   "cell_type": "code",
   "execution_count": 9,
   "metadata": {},
   "outputs": [],
   "source": [
    "# Test the symmetry matrices for the structures that are produced from the relaxations. \n",
    "\n",
    "\n",
    "group_name = 'QE/test/symmetry'\n",
    "group = load_group(group_name)\n",
    "\n",
    "successful_nodes = [node.pk for node in group.nodes]\n",
    "\n",
    "\n",
    "for node in successful_nodes:\n",
    "    \n",
    "    workflow_node = load_node(node)\n",
    "    input_workchain = get_workchain_node_ids(workflow_node.called_descendants)[0]\n",
    "    input_workchain_node = load_node(input_workchain)\n",
    "    \n",
    "    workchain = load_node(input_workchain_node.called_descendants[-1].pk)\n",
    "    try:\n",
    "        retrieved = workchain.outputs.retrieved\n",
    "    except: \n",
    "        workchain = load_node(input_workchain_node.called_descendants[-2].pk)\n",
    "        retrieved = workchain.outputs.retrieved\n",
    "        \n",
    "        \n",
    "    qe_aiida_out = retrieved.base.repository.get_object_content('aiida.out').split('\\n')\n",
    "    \n",
    "    symmetries_qe = get_crystal_symmetries_qe(qe_aiida_out)\n",
    "    \n",
    "    structure = workchain.inputs.structure\n",
    "    \n",
    "    symmetries_spglib, number_of_symmetries = get_symmetry_matrices_spglib(structure)\n",
    "    \n",
    "    if not matrices_are_equal(symmetries_qe, symmetries_spglib):\n",
    "        print(node)\n",
    "        print('The number of symmetries from QE : ', len(symmetries_qe))\n",
    "        print('The number of symmetries from Spglib : ', len(symmetries_spglib))"
   ]
  },
  {
   "cell_type": "markdown",
   "metadata": {},
   "source": [
    "## Failed Calculations"
   ]
  },
  {
   "cell_type": "code",
   "execution_count": 10,
   "metadata": {},
   "outputs": [
    {
     "name": "stdout",
     "output_type": "stream",
     "text": [
      "Calculation 91425 was NOT successful\r"
     ]
    }
   ],
   "source": [
    "group_name = 'workchain/test/relax'\n",
    "group = load_group(group_name)\n",
    "\n",
    "# Initialize counters and structures\n",
    "total_finished = 0\n",
    "successful_finished = 0\n",
    "non_successful_finished = 0\n",
    "non_successful_nodes = []\n",
    "nodes_errors = defaultdict(list)\n",
    "status_messages = {}\n",
    "kpoint_failed = set()\n",
    "\n",
    "# Iterate over nodes in the group\n",
    "for node in group.nodes:\n",
    "    workchain_node = load_node(node.pk)\n",
    "    if workchain_node.is_finished:\n",
    "        total_finished += 1\n",
    "        if workchain_node.is_finished_ok:\n",
    "            successful_finished += 1\n",
    "        else:\n",
    "            non_successful_finished += 1\n",
    "            print(f\"Calculation {node.pk} was NOT successful\", end='\\r')\n",
    "            non_successful_nodes.append(workchain_node)\n",
    "            nodes_errors[workchain_node.exit_status].append(workchain_node)\n",
    "\n",
    "\n",
    "\n",
    "for status, workchains in nodes_errors.items():\n",
    "    for workchain in workchains:\n",
    "        for calculation in workchain.called_descendants:\n",
    "            calc = load_node(calculation.pk)\n",
    "            if calc.exit_status is not None:\n",
    "                message = calc.exit_message\n",
    "                if calc.exit_status == 541:\n",
    "                    kpoint_failed.add(workchain)\n",
    "                if calc.exit_status not in status_messages:\n",
    "                    status_messages[calc.exit_status] = message\n",
    "                elif message != status_messages[calc.exit_status]:\n",
    "                    # Handle different messages for the same status if needed\n",
    "                    pass"
   ]
  },
  {
   "cell_type": "code",
   "execution_count": 11,
   "metadata": {},
   "outputs": [
    {
     "data": {
      "text/plain": [
       "defaultdict(list,\n",
       "            {403: [<WorkChainNode: uuid: c3babc18-16a6-4065-a797-6140f4c86dac (pk: 74663) (aiida.workflows:quantumespresso.pw.relax)>,\n",
       "              <WorkChainNode: uuid: 7cf3c6f2-09aa-4be4-97b4-9c6759f2b9c7 (pk: 75892) (aiida.workflows:quantumespresso.pw.relax)>,\n",
       "              <WorkChainNode: uuid: ca5d4c89-27f0-4eb2-85fe-6a19ec4a7398 (pk: 75961) (aiida.workflows:quantumespresso.pw.relax)>,\n",
       "              <WorkChainNode: uuid: cb12085d-30b3-4fe0-8fc4-420674b1eacd (pk: 76368) (aiida.workflows:quantumespresso.pw.relax)>,\n",
       "              <WorkChainNode: uuid: 6cea05aa-fe68-4a3a-9506-8e9e93405fc9 (pk: 79909) (aiida.workflows:quantumespresso.pw.relax)>,\n",
       "              <WorkChainNode: uuid: 3f9daadd-f0e2-42d0-b2de-fe294816fa0a (pk: 80094) (aiida.workflows:quantumespresso.pw.relax)>,\n",
       "              <WorkChainNode: uuid: 9277edc9-c8df-4aa4-be21-333c27a211d0 (pk: 80826) (aiida.workflows:quantumespresso.pw.relax)>,\n",
       "              <WorkChainNode: uuid: 845df396-0002-45e3-9cbe-2e838d032ae1 (pk: 81692) (aiida.workflows:quantumespresso.pw.relax)>,\n",
       "              <WorkChainNode: uuid: d76e4f2b-d646-405c-a47e-8b4f0c640227 (pk: 84837) (aiida.workflows:quantumespresso.pw.relax)>,\n",
       "              <WorkChainNode: uuid: 9a7cb21e-9d41-4345-bb6b-c831ba56145e (pk: 85103) (aiida.workflows:quantumespresso.pw.relax)>,\n",
       "              <WorkChainNode: uuid: 5f7fe3bd-0fc4-4424-bc8b-3706653dec29 (pk: 85733) (aiida.workflows:quantumespresso.pw.relax)>,\n",
       "              <WorkChainNode: uuid: c520fed7-2360-4d87-8639-4e8370d001d0 (pk: 86322) (aiida.workflows:quantumespresso.pw.relax)>,\n",
       "              <WorkChainNode: uuid: 675689fb-6602-4b4a-8c31-6b6a41b8a176 (pk: 87382) (aiida.workflows:quantumespresso.pw.relax)>,\n",
       "              <WorkChainNode: uuid: a1680069-cd95-403a-822d-f0bf7af2dcaa (pk: 88552) (aiida.workflows:quantumespresso.pw.relax)>,\n",
       "              <WorkChainNode: uuid: cab9db7f-0e5e-4d09-b5f2-decf4db621a6 (pk: 88715) (aiida.workflows:quantumespresso.pw.relax)>,\n",
       "              <WorkChainNode: uuid: e89020bd-dbcb-4cda-93d9-8823ddcff0bf (pk: 88840) (aiida.workflows:quantumespresso.pw.relax)>,\n",
       "              <WorkChainNode: uuid: e36a6e7c-d2fc-4365-bda2-337a89d8811c (pk: 90572) (aiida.workflows:quantumespresso.pw.relax)>,\n",
       "              <WorkChainNode: uuid: 4ab18293-e7fb-466b-be30-16f60bb29fb1 (pk: 90787) (aiida.workflows:quantumespresso.pw.relax)>,\n",
       "              <WorkChainNode: uuid: fece75d3-6e8d-4682-b7cd-4e0c6fbbe518 (pk: 91044) (aiida.workflows:quantumespresso.pw.relax)>,\n",
       "              <WorkChainNode: uuid: 4b7c2ce6-a59d-47ae-a9f1-fc4dc5921377 (pk: 91406) (aiida.workflows:quantumespresso.pw.relax)>,\n",
       "              <WorkChainNode: uuid: 0647d276-c050-4acd-9993-6f0e9c8e6e9a (pk: 91425) (aiida.workflows:quantumespresso.pw.relax)>],\n",
       "             401: [<WorkChainNode: uuid: 4bd425b7-7118-4a3d-91be-ba6e6f3eb1a2 (pk: 74927) (aiida.workflows:quantumespresso.pw.relax)>,\n",
       "              <WorkChainNode: uuid: bb7e9e16-799f-49a0-8a66-d72d049044c6 (pk: 76671) (aiida.workflows:quantumespresso.pw.relax)>,\n",
       "              <WorkChainNode: uuid: 5991dc5c-642c-4826-8aeb-43aaaa8b4b01 (pk: 76926) (aiida.workflows:quantumespresso.pw.relax)>,\n",
       "              <WorkChainNode: uuid: 55d0ff48-d3ed-4f43-b38b-00ade0700b75 (pk: 78536) (aiida.workflows:quantumespresso.pw.relax)>,\n",
       "              <WorkChainNode: uuid: 286de588-a6e1-43f9-93b6-25ab936d05ed (pk: 79376) (aiida.workflows:quantumespresso.pw.relax)>,\n",
       "              <WorkChainNode: uuid: 84ed0b34-0211-4266-829d-d55b12d6f722 (pk: 79429) (aiida.workflows:quantumespresso.pw.relax)>,\n",
       "              <WorkChainNode: uuid: 79fa4905-ae28-4c6a-885c-8f97888a28a8 (pk: 80360) (aiida.workflows:quantumespresso.pw.relax)>,\n",
       "              <WorkChainNode: uuid: 11487acd-4b91-4f7c-aaa0-dfd6582b5ff8 (pk: 80529) (aiida.workflows:quantumespresso.pw.relax)>,\n",
       "              <WorkChainNode: uuid: 6d9923e7-d914-4e71-8274-da3a8dfd9f9b (pk: 81352) (aiida.workflows:quantumespresso.pw.relax)>,\n",
       "              <WorkChainNode: uuid: ff6fb6f2-0e3c-4520-953c-25ba0b9b0110 (pk: 82132) (aiida.workflows:quantumespresso.pw.relax)>,\n",
       "              <WorkChainNode: uuid: 82697252-3e60-4f94-9a2d-186f625789d8 (pk: 84065) (aiida.workflows:quantumespresso.pw.relax)>,\n",
       "              <WorkChainNode: uuid: 04563030-beaf-442e-a1df-4c667cfeb4a5 (pk: 87694) (aiida.workflows:quantumespresso.pw.relax)>,\n",
       "              <WorkChainNode: uuid: 5b607344-b1a8-465e-8de7-4d199f338fc9 (pk: 88640) (aiida.workflows:quantumespresso.pw.relax)>,\n",
       "              <WorkChainNode: uuid: 1540399d-5021-4e53-be21-e32eecccbaae (pk: 89792) (aiida.workflows:quantumespresso.pw.relax)>]})"
      ]
     },
     "execution_count": 11,
     "metadata": {},
     "output_type": "execute_result"
    }
   ],
   "source": [
    "nodes_errors"
   ]
  },
  {
   "cell_type": "code",
   "execution_count": 12,
   "metadata": {},
   "outputs": [
    {
     "name": "stdout",
     "output_type": "stream",
     "text": [
      "uuid: 0647d276-c050-4acd-9993-6f0e9c8e6e9a (pk: 91425) (aiida.workflows:quantumespresso.pw.relax)\n",
      "uuid: d47560b8-004c-4c1c-b430-bb863019504d (pk: 91718) (aiida.calculations:quantumespresso.pw)\n",
      "12 12\n",
      "uuid: 9a7cb21e-9d41-4345-bb6b-c831ba56145e (pk: 85103) (aiida.workflows:quantumespresso.pw.relax)\n",
      "uuid: 97590d06-6df7-4065-84d0-f99a941bce48 (pk: 85511) (aiida.calculations:quantumespresso.pw)\n",
      "12 12\n",
      "uuid: cb12085d-30b3-4fe0-8fc4-420674b1eacd (pk: 76368) (aiida.workflows:quantumespresso.pw.relax)\n",
      "uuid: a6e3e30f-5092-4649-8c50-2332c1560900 (pk: 76461) (aiida.calculations:quantumespresso.pw)\n",
      "12 12\n"
     ]
    }
   ],
   "source": [
    "for node in list(kpoint_failed):\n",
    "    print(node)\n",
    "    workflow_node = load_node(node.pk)\n",
    "    input_workchain = get_workchain_node_ids(workflow_node.called_descendants)[0]\n",
    "    \n",
    "    workchain = load_node(input_workchain)\n",
    "    pw_node = load_node(workchain.called_descendants[-1].pk)\n",
    "    print(pw_node)\n",
    "    retrieved = pw_node.outputs.retrieved\n",
    "    qe_aiida_out = retrieved.base.repository.get_object_content('aiida.out').split('\\n')\n",
    "    \n",
    "    symmetries_qe = get_crystal_symmetries_qe(qe_aiida_out)\n",
    "    \n",
    "    structure = workchain.inputs.pw.structure\n",
    "    \n",
    "    symmetries_spglib, number_of_symmetries = get_symmetry_matrices_spglib(structure)\n",
    "    print(len(symmetries_qe),len(symmetries_spglib))\n",
    "    if not matrices_are_equal(symmetries_qe, symmetries_spglib):\n",
    "        print(node)\n",
    "        print('The number of symmetries from QE : ', len(symmetries_qe))\n",
    "        print('The number of symmetries from Spglib : ', len(symmetries_spglib))"
   ]
  },
  {
   "cell_type": "code",
   "execution_count": 13,
   "metadata": {},
   "outputs": [
    {
     "name": "stderr",
     "output_type": "stream",
     "text": [
      "/tmp/ipykernel_3434044/1417270559.py:8: AiidaDeprecationWarning: `objects` property is deprecated, use `collection` instead. (this will be removed in v3)\n",
      "  group, created = Group.objects.get_or_create(label=group_name)\n"
     ]
    }
   ],
   "source": [
    "# Save the structures that failed to run in the kpoints_problem group to test them again. \n",
    "\n",
    "pk_to_add = [91425,85103,76368]\n",
    "\n",
    "group_name = 'kpoints_problem'\n",
    "\n",
    "\n",
    "group, created = Group.objects.get_or_create(label=group_name)\n",
    "\n",
    "\n",
    "\n",
    "for node in pk_to_add: \n",
    "    workchain_node = load_node(node)\n",
    "    \n",
    "    structure = workchain_node.inputs.structure\n",
    "\n",
    "    group.add_nodes(structure)"
   ]
  },
  {
   "cell_type": "code",
   "execution_count": null,
   "metadata": {},
   "outputs": [],
   "source": []
  }
 ],
 "metadata": {
  "kernelspec": {
   "display_name": "MC3D-source",
   "language": "python",
   "name": "python3"
  },
  "language_info": {
   "codemirror_mode": {
    "name": "ipython",
    "version": 3
   },
   "file_extension": ".py",
   "mimetype": "text/x-python",
   "name": "python",
   "nbconvert_exporter": "python",
   "pygments_lexer": "ipython3",
   "version": "3.10.12"
  }
 },
 "nbformat": 4,
 "nbformat_minor": 2
}
