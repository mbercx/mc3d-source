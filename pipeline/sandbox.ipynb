{
 "cells": [
  {
   "cell_type": "code",
   "execution_count": 1,
   "metadata": {},
   "outputs": [
    {
     "data": {
      "text/plain": [
       "Profile<uuid='960a408e945248238ac64a4982cfc6d7' name='dev'>"
      ]
     },
     "execution_count": 1,
     "metadata": {},
     "output_type": "execute_result"
    }
   ],
   "source": [
    "import yaml\n",
    "from pathlib import Path\n",
    "from aiida import orm, load_profile\n",
    "\n",
    "load_profile()"
   ]
  },
  {
   "cell_type": "code",
   "execution_count": 12,
   "metadata": {},
   "outputs": [],
   "source": [
    "def find_source_node(group_label, source_id, source_db=None):\n",
    "    \"\"\"Find the node corresponding to a certain source in a group.\"\"\"\n",
    "\n",
    "    filters = {\"and\": [{\"extras.source.id\": source_id}]}\n",
    "    if source_db:\n",
    "        filters[\"and\"].append({\"extras.source.db\": source_db})\n",
    "\n",
    "    try:\n",
    "        return (\n",
    "            orm.QueryBuilder()\n",
    "            .append(orm.Group, filters={\"label\": group_label}, tag=\"group\")\n",
    "            .append(orm.Node, with_group=\"group\", filters=filters)\n",
    "            .first()[0]\n",
    "        )\n",
    "    except TypeError:\n",
    "        return None"
   ]
  },
  {
   "cell_type": "code",
   "execution_count": 2,
   "metadata": {},
   "outputs": [],
   "source": [
    "from cli import RelaxSubmissionController\n",
    "\n",
    "with Path('settings.yaml').open(\"r\") as handle:\n",
    "    settings_dict = yaml.safe_load(handle)\n",
    "\n",
    "submission_controller = RelaxSubmissionController(\n",
    "    unique_extra_keys=[\"source.database\", \"source.id\"],\n",
    "    max_concurrent=settings_dict[\"max_concurrent\"],\n",
    "    parent_group_label=settings_dict[\"parent_group\"],\n",
    "    group_label=settings_dict[\"relax_group\"],\n",
    "    pw_code=settings_dict[\"pw_code\"],\n",
    "    overrides=settings_dict[\"overrides\"],\n",
    "    filters={'extras.number_of_sites': {'<=': settings_dict[\"max_structure_size\"]}},\n",
    "    order_by={orm.Node: {'extras.number_of_sites': {'order': 'asc', 'cast': 'i'}}}\n",
    ")"
   ]
  },
  {
   "cell_type": "code",
   "execution_count": 14,
   "metadata": {},
   "outputs": [],
   "source": [
    "naughty_structure = find_source_node('structure/source', 'S1816748')"
   ]
  },
  {
   "cell_type": "code",
   "execution_count": 22,
   "metadata": {},
   "outputs": [
    {
     "data": {
      "text/plain": [
       "Structure Summary\n",
       "Lattice\n",
       "    abc : 4.06827437469227 4.06827437469227 4.068274374692269\n",
       " angles : 59.45961601886717 59.45961601886717 59.459616018867194\n",
       " volume : 47.026638095898306\n",
       "      A : 2.0175 1.1648041680900698 3.335233333333333\n",
       "      B : -2.0175 1.1648041680900698 3.335233333333333\n",
       "      C : -6.476300976980106e-19 -2.3296083361801396 3.335233333333333\n",
       "    pbc : True True True\n",
       "PeriodicSite: U (0.0, 0.0, 0.0) [0.0, 0.0, 0.0]\n",
       "PeriodicSite: Se (2.017, 1.165, 8.338) [1.5, 0.5, 0.5]"
      ]
     },
     "execution_count": 22,
     "metadata": {},
     "output_type": "execute_result"
    }
   ],
   "source": [
    "pmg_structure = naughty_structure.get_pymatgen()\n",
    "pmg_structure"
   ]
  },
  {
   "cell_type": "code",
   "execution_count": 23,
   "metadata": {},
   "outputs": [
    {
     "data": {
      "text/plain": [
       "Structure Summary\n",
       "Lattice\n",
       "    abc : 4.06827437469227 4.06827437469227 4.068274374692269\n",
       " angles : 59.45961601886717 59.45961601886717 59.459616018867194\n",
       " volume : 47.026638095898306\n",
       "      A : 2.0175 1.1648041680900698 3.335233333333333\n",
       "      B : -2.0175 1.1648041680900698 3.335233333333333\n",
       "      C : -6.476300976980106e-19 -2.3296083361801396 3.335233333333333\n",
       "    pbc : True True True\n",
       "PeriodicSite: U (0.0, 0.0, 0.0) [0.0, 0.0, 0.0]\n",
       "PeriodicSite: Se (-4.444e-16, -6.661e-16, 5.003) [0.5, 0.5, 0.5]"
      ]
     },
     "execution_count": 23,
     "metadata": {},
     "output_type": "execute_result"
    }
   ],
   "source": [
    "pmg_structure.translate_sites(range(len(pmg_structure)), [0, 0, 0], to_unit_cell=True)"
   ]
  },
  {
   "cell_type": "code",
   "execution_count": 9,
   "metadata": {},
   "outputs": [
    {
     "data": {
      "text/plain": [
       "316"
      ]
     },
     "execution_count": 9,
     "metadata": {},
     "output_type": "execute_result"
    }
   ],
   "source": [
    "len(submission_controller.get_all_extras_to_submit())"
   ]
  },
  {
   "cell_type": "code",
   "execution_count": 9,
   "metadata": {},
   "outputs": [
    {
     "data": {
      "text/plain": [
       "{'source': {'id': 'S1100556', 'version': '1.0.0', 'database': 'mpds'},\n",
       " 'duplicates': [],\n",
       " 'formula_hill': 'F8Sn4',\n",
       " 'bravais_lattice': 'oP',\n",
       " 'chemical_system': '-F-Sn-',\n",
       " 'spacegroup_number': 19,\n",
       " 'partial_occupancies': False,\n",
       " 'formula_hill_compact': 'F2Sn',\n",
       " 'bravais_lattice_extended': 'oP1',\n",
       " 'spacegroup_international': 'P2_12_12_1'}"
      ]
     },
     "execution_count": 9,
     "metadata": {},
     "output_type": "execute_result"
    }
   ],
   "source": [
    "submission_controller.parent_group.nodes[0].extras"
   ]
  },
  {
   "cell_type": "code",
   "execution_count": 12,
   "metadata": {},
   "outputs": [
    {
     "data": {
      "text/plain": [
       "{'cell': [[4.836, 0.0, 0.0], [0.0, 5.211, 0.0], [0.0, 0.0, 8.418]],\n",
       " 'pbc1': True,\n",
       " 'pbc2': True,\n",
       " 'pbc3': True,\n",
       " 'kinds': [{'mass': 118.71, 'name': 'Sn', 'symbols': ['Sn'], 'weights': [1.0]},\n",
       "  {'mass': 18.9984032, 'name': 'F', 'symbols': ['F'], 'weights': [1.0]}],\n",
       " 'sites': [{'position': [1.131624, 2.6487513, 5.312599799999999],\n",
       "   'kind_name': 'Sn'},\n",
       "  {'position': [3.549624, 5.167748700000001, 3.1054001999999996],\n",
       "   'kind_name': 'Sn'},\n",
       "  {'position': [3.7043760000000003, 0.04325129999999987, 7.3144002],\n",
       "   'kind_name': 'Sn'},\n",
       "  {'position': [1.2863760000000002, 2.5622487000000005, 1.1035997999999998],\n",
       "   'kind_name': 'Sn'},\n",
       "  {'position': [2.280174, 4.7810925000000015, 4.3630493999999995],\n",
       "   'kind_name': 'F'},\n",
       "  {'position': [4.698174000000001, 3.035407499999999, 4.0549506],\n",
       "   'kind_name': 'F'},\n",
       "  {'position': [2.555826, 2.1755925000000014, 8.2639506], 'kind_name': 'F'},\n",
       "  {'position': [0.13782599999999987, 0.42990749999999894, 0.15404939999999984],\n",
       "   'kind_name': 'F'},\n",
       "  {'position': [0.3249791999999999, 3.8884482000000005, 6.559305599999999],\n",
       "   'kind_name': 'F'},\n",
       "  {'position': [2.7429791999999997, 3.9280518, 1.8586943999999999],\n",
       "   'kind_name': 'F'},\n",
       "  {'position': [4.511020800000001, 1.2829481999999999, 6.0676944],\n",
       "   'kind_name': 'F'},\n",
       "  {'position': [2.0930208, 1.3225517999999996, 2.350305599999999],\n",
       "   'kind_name': 'F'}]}"
      ]
     },
     "execution_count": 12,
     "metadata": {},
     "output_type": "execute_result"
    }
   ],
   "source": [
    "submission_controller.parent_group.nodes[0].attributes"
   ]
  },
  {
   "cell_type": "code",
   "execution_count": 30,
   "metadata": {},
   "outputs": [
    {
     "data": {
      "text/plain": [
       "Profile<uuid='960a408e945248238ac64a4982cfc6d7' name='dev'>"
      ]
     },
     "execution_count": 30,
     "metadata": {},
     "output_type": "execute_result"
    }
   ],
   "source": [
    "import aiida \n",
    "from aiida.orm import load_node\n",
    "from aiida_quantumespresso.workflows.pw.bands import PwBandsWorkChain\n",
    "from aiida_quantumespresso.common.types import ElectronicType, SpinType\n",
    "\n",
    "aiida.load_profile()"
   ]
  },
  {
   "cell_type": "code",
   "execution_count": 32,
   "metadata": {},
   "outputs": [],
   "source": [
    "builder = PwBandsWorkChain.get_builder_from_protocol(\n",
    "            code='sirius-pw@lumi',\n",
    "            structure=load_node(21261),\n",
    "            electronic_type=ElectronicType.METAL,\n",
    "            spin_type=SpinType.COLLINEAR,\n",
    "        )"
   ]
  },
  {
   "cell_type": "code",
   "execution_count": 33,
   "metadata": {},
   "outputs": [
    {
     "data": {
      "text/plain": [
       "Process class: PwBandsWorkChain\n",
       "Inputs:\n",
       "bands:\n",
       "  max_iterations: 5\n",
       "  metadata: {}\n",
       "  pw:\n",
       "    code: sirius-pw@lumi\n",
       "    metadata:\n",
       "      options:\n",
       "        max_wallclock_seconds: 43200\n",
       "        resources:\n",
       "          num_machines: 1\n",
       "          num_mpiprocs_per_machine: 8\n",
       "        stash: {}\n",
       "        withmpi: true\n",
       "    monitors: {}\n",
       "    parameters:\n",
       "      CONTROL:\n",
       "        calculation: bands\n",
       "        etot_conv_thr: 4.0e-05\n",
       "        forc_conv_thr: 0.0001\n",
       "        restart_mode: from_scratch\n",
       "        tprnfor: true\n",
       "        tstress: true\n",
       "      ELECTRONS:\n",
       "        conv_thr: 8.0e-10\n",
       "        diago_full_acc: true\n",
       "        diagonalization: paro\n",
       "        electron_maxstep: 80\n",
       "        mixing_beta: 0.4\n",
       "        startingpot: file\n",
       "      SYSTEM:\n",
       "        degauss: 0.02\n",
       "        ecutrho: 480.0\n",
       "        ecutwfc: 60.0\n",
       "        nosym: false\n",
       "        nspin: 2\n",
       "        occupations: smearing\n",
       "        smearing: cold\n",
       "        starting_magnetization:\n",
       "          H: 0.1\n",
       "          Sc: 0.45454545454545453\n",
       "    pseudos:\n",
       "      H: ''\n",
       "      Sc: ''\n",
       "bands_kpoints_distance: 0.025\n",
       "clean_workdir: false\n",
       "metadata: {}\n",
       "nbands_factor: 3.0\n",
       "relax:\n",
       "  base_init_relax:\n",
       "    kpoints_distance: 0.3\n",
       "    kpoints_force_parity: false\n",
       "    max_iterations: 5\n",
       "    metadata: {}\n",
       "    pw:\n",
       "      code: sirius-pw@lumi\n",
       "      metadata:\n",
       "        options:\n",
       "          max_wallclock_seconds: 43200\n",
       "          resources:\n",
       "            num_machines: 1\n",
       "            num_mpiprocs_per_machine: 8\n",
       "          stash: {}\n",
       "          withmpi: true\n",
       "      monitors: {}\n",
       "      parameters:\n",
       "        CELL:\n",
       "          cell_dofree: all\n",
       "          press_conv_thr: 2\n",
       "        CONTROL:\n",
       "          calculation: vc-relax\n",
       "          etot_conv_thr: 0.004\n",
       "          forc_conv_thr: 0.005\n",
       "          tprnfor: true\n",
       "          tstress: true\n",
       "        ELECTRONS:\n",
       "          conv_thr: 4.0e-06\n",
       "          electron_maxstep: 80\n",
       "          mixing_beta: 0.4\n",
       "        SYSTEM:\n",
       "          degauss: 0.0275\n",
       "          ecutrho: 480.0\n",
       "          ecutwfc: 60.0\n",
       "          nosym: false\n",
       "          nspin: 2\n",
       "          occupations: smearing\n",
       "          smearing: cold\n",
       "          starting_magnetization:\n",
       "            H: 0.1\n",
       "            Sc: 0.45454545454545453\n",
       "      pseudos:\n",
       "        H: ''\n",
       "        Sc: ''\n",
       "  base_relax:\n",
       "    kpoints_distance: 0.15\n",
       "    kpoints_force_parity: false\n",
       "    max_iterations: 5\n",
       "    metadata: {}\n",
       "    pw:\n",
       "      code: sirius-pw@lumi\n",
       "      metadata:\n",
       "        options:\n",
       "          max_wallclock_seconds: 43200\n",
       "          resources:\n",
       "            num_machines: 1\n",
       "            num_mpiprocs_per_machine: 8\n",
       "          stash: {}\n",
       "          withmpi: true\n",
       "      monitors: {}\n",
       "      parameters:\n",
       "        CELL:\n",
       "          cell_dofree: all\n",
       "          press_conv_thr: 0.5\n",
       "        CONTROL:\n",
       "          calculation: vc-relax\n",
       "          etot_conv_thr: 4.0e-05\n",
       "          forc_conv_thr: 0.0001\n",
       "          tprnfor: true\n",
       "          tstress: true\n",
       "        ELECTRONS:\n",
       "          conv_thr: 8.0e-10\n",
       "          electron_maxstep: 80\n",
       "          mixing_beta: 0.4\n",
       "        SYSTEM:\n",
       "          degauss: 0.02\n",
       "          ecutrho: 480.0\n",
       "          ecutwfc: 60.0\n",
       "          nosym: false\n",
       "          nspin: 2\n",
       "          occupations: smearing\n",
       "          smearing: cold\n",
       "          starting_magnetization:\n",
       "            H: 0.1\n",
       "            Sc: 0.45454545454545453\n",
       "      pseudos:\n",
       "        H: ''\n",
       "        Sc: ''\n",
       "  max_meta_convergence_iterations: 5\n",
       "  meta_convergence: true\n",
       "  metadata: {}\n",
       "scf:\n",
       "  kpoints_distance: 0.15\n",
       "  kpoints_force_parity: false\n",
       "  max_iterations: 5\n",
       "  metadata: {}\n",
       "  pw:\n",
       "    code: sirius-pw@lumi\n",
       "    metadata:\n",
       "      options:\n",
       "        max_wallclock_seconds: 43200\n",
       "        resources:\n",
       "          num_machines: 1\n",
       "          num_mpiprocs_per_machine: 8\n",
       "        stash: {}\n",
       "        withmpi: true\n",
       "    monitors: {}\n",
       "    parameters:\n",
       "      CONTROL:\n",
       "        calculation: scf\n",
       "        etot_conv_thr: 4.0e-05\n",
       "        forc_conv_thr: 0.0001\n",
       "        tprnfor: true\n",
       "        tstress: true\n",
       "      ELECTRONS:\n",
       "        conv_thr: 8.0e-10\n",
       "        electron_maxstep: 80\n",
       "        mixing_beta: 0.4\n",
       "      SYSTEM:\n",
       "        degauss: 0.02\n",
       "        ecutrho: 480.0\n",
       "        ecutwfc: 60.0\n",
       "        nosym: false\n",
       "        nspin: 2\n",
       "        occupations: smearing\n",
       "        smearing: cold\n",
       "        starting_magnetization:\n",
       "          H: 0.1\n",
       "          Sc: 0.45454545454545453\n",
       "    pseudos:\n",
       "      H: ''\n",
       "      Sc: ''\n",
       "structure: HSc\n"
      ]
     },
     "execution_count": 33,
     "metadata": {},
     "output_type": "execute_result"
    }
   ],
   "source": [
    "builder"
   ]
  },
  {
   "cell_type": "code",
   "execution_count": 34,
   "metadata": {},
   "outputs": [
    {
     "data": {
      "text/plain": [
       "Process class: PwBandsWorkChain\n",
       "Inputs:\n",
       "bands:\n",
       "  max_iterations: 5\n",
       "  metadata: {}\n",
       "  pw:\n",
       "    code: sirius-pw@lumi\n",
       "    metadata:\n",
       "      options:\n",
       "        max_wallclock_seconds: 43200\n",
       "        resources:\n",
       "          num_machines: 1\n",
       "          num_mpiprocs_per_machine: 8\n",
       "        stash: {}\n",
       "        withmpi: true\n",
       "    monitors: {}\n",
       "    parameters:\n",
       "      CONTROL:\n",
       "        calculation: bands\n",
       "        etot_conv_thr: 4.0e-05\n",
       "        forc_conv_thr: 0.0001\n",
       "        restart_mode: from_scratch\n",
       "        tprnfor: true\n",
       "        tstress: true\n",
       "      ELECTRONS:\n",
       "        conv_thr: 8.0e-10\n",
       "        diago_full_acc: true\n",
       "        diagonalization: paro\n",
       "        electron_maxstep: 80\n",
       "        mixing_beta: 0.4\n",
       "        startingpot: file\n",
       "      SYSTEM:\n",
       "        degauss: 0.02\n",
       "        ecutrho: 480.0\n",
       "        ecutwfc: 60.0\n",
       "        nosym: false\n",
       "        nspin: 2\n",
       "        occupations: smearing\n",
       "        smearing: cold\n",
       "        starting_magnetization:\n",
       "          H: 0.1\n",
       "          Sc: 0.45454545454545453\n",
       "    pseudos:\n",
       "      H: ''\n",
       "      Sc: ''\n",
       "bands_kpoints_distance: 0.025\n",
       "clean_workdir: false\n",
       "metadata: {}\n",
       "nbands_factor: 3.0\n",
       "scf:\n",
       "  kpoints_distance: 0.15\n",
       "  kpoints_force_parity: false\n",
       "  max_iterations: 5\n",
       "  metadata: {}\n",
       "  pw:\n",
       "    code: sirius-pw@lumi\n",
       "    metadata:\n",
       "      options:\n",
       "        max_wallclock_seconds: 43200\n",
       "        resources:\n",
       "          num_machines: 1\n",
       "          num_mpiprocs_per_machine: 8\n",
       "        stash: {}\n",
       "        withmpi: true\n",
       "    monitors: {}\n",
       "    parameters:\n",
       "      CONTROL:\n",
       "        calculation: scf\n",
       "        etot_conv_thr: 4.0e-05\n",
       "        forc_conv_thr: 0.0001\n",
       "        tprnfor: true\n",
       "        tstress: true\n",
       "      ELECTRONS:\n",
       "        conv_thr: 8.0e-10\n",
       "        electron_maxstep: 80\n",
       "        mixing_beta: 0.4\n",
       "      SYSTEM:\n",
       "        degauss: 0.02\n",
       "        ecutrho: 480.0\n",
       "        ecutwfc: 60.0\n",
       "        nosym: false\n",
       "        nspin: 2\n",
       "        occupations: smearing\n",
       "        smearing: cold\n",
       "        starting_magnetization:\n",
       "          H: 0.1\n",
       "          Sc: 0.45454545454545453\n",
       "    pseudos:\n",
       "      H: ''\n",
       "      Sc: ''\n",
       "structure: HSc\n"
      ]
     },
     "execution_count": 34,
     "metadata": {},
     "output_type": "execute_result"
    }
   ],
   "source": [
    "if 'relax' in builder:\n",
    "    del builder['relax']\n",
    "\n",
    "builder"
   ]
  },
  {
   "cell_type": "code",
   "execution_count": null,
   "metadata": {},
   "outputs": [],
   "source": []
  }
 ],
 "metadata": {
  "kernelspec": {
   "display_name": "MC3D-source",
   "language": "python",
   "name": "python3"
  },
  "language_info": {
   "codemirror_mode": {
    "name": "ipython",
    "version": 3
   },
   "file_extension": ".py",
   "mimetype": "text/x-python",
   "name": "python",
   "nbconvert_exporter": "python",
   "pygments_lexer": "ipython3",
   "version": "3.10.12"
  }
 },
 "nbformat": 4,
 "nbformat_minor": 2
}
